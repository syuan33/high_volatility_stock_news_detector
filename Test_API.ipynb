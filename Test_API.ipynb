{
 "cells": [
  {
   "cell_type": "code",
   "execution_count": 1,
   "id": "7da664d3",
   "metadata": {},
   "outputs": [],
   "source": [
    "import requests \n",
    "import finnhub\n",
    "import yfinance as yf\n",
    "import pandas as pd\n",
    "import matplotlib.pyplot as plt\n",
    "from datetime import datetime\n",
    "\n",
    "import sys, os\n",
    "sys.path.append(os.path.abspath('../'))\n",
    "import config\n",
    "\n",
    "# get your api key from https://finnhub.io\n",
    "finnhub_client =finnhub.Client(api_key=config.FH_API_KEY)"
   ]
  },
  {
   "cell_type": "markdown",
   "id": "487d8447",
   "metadata": {},
   "source": [
    "# 1. Quote proba score from model using CURL and python-requests"
   ]
  },
  {
   "cell_type": "code",
   "execution_count": 60,
   "id": "b76dd1bc",
   "metadata": {},
   "outputs": [
    {
     "name": "stdout",
     "output_type": "stream",
     "text": [
      "0.374896156790326\r\n"
     ]
    }
   ],
   "source": [
    "!curl http://104.154.169.240:5000/news --data \"news=Oil Tumbles on Prospect Iranian Nuclear Deal May Be Within Sight\" -X POST"
   ]
  },
  {
   "cell_type": "markdown",
   "id": "f3150673",
   "metadata": {},
   "source": [
    "[how to turn curl command in linux to requests in python](https://flask-restful.readthedocs.io/en/latest/quickstart.html): see Resourceful Routing section\n",
    "\n"
   ]
  },
  {
   "cell_type": "code",
   "execution_count": 61,
   "id": "ce8a3fdc",
   "metadata": {},
   "outputs": [
    {
     "name": "stdout",
     "output_type": "stream",
     "text": [
      "0.374896156790326\n"
     ]
    }
   ],
   "source": [
    "news_item = 'Oil Tumbles on Prospect Iranian Nuclear Deal May Be Within Sight'\n",
    "host = \"http://104.154.169.240:5000\"\n",
    "response = requests.post(host+\"/news\", data={\"news\":news_item})\n",
    "resulting_proba = response.json()\n",
    "print(resulting_proba)"
   ]
  },
  {
   "cell_type": "markdown",
   "id": "d8474421",
   "metadata": {},
   "source": [
    "# 2. Download recent Dataset from Finnhub and yFinance"
   ]
  },
  {
   "cell_type": "markdown",
   "id": "b90ee928",
   "metadata": {},
   "source": [
    "## 2.1. HAS and WMT\n",
    "\n",
    "- top movers based on https://markets.businessinsider.com/index/market-movers/s&p_500 accessed on Feb-17"
   ]
  },
  {
   "cell_type": "markdown",
   "id": "82c33729",
   "metadata": {},
   "source": [
    "\n",
    "### 2.1.1. finnhub for news\n",
    "    - note that only 8 days data available"
   ]
  },
  {
   "cell_type": "code",
   "execution_count": null,
   "id": "0d031229",
   "metadata": {},
   "outputs": [],
   "source": [
    "# !pip install finnhub-python \n",
    "# note that jupyter notebook is taking the environment outside the venv, plz install the package there as well."
   ]
  },
  {
   "cell_type": "code",
   "execution_count": 4,
   "id": "dfd1830b",
   "metadata": {},
   "outputs": [
    {
     "name": "stdout",
     "output_type": "stream",
     "text": [
      "WMT\n",
      "HAS\n"
     ]
    }
   ],
   "source": [
    "symbol=[\"WMT\",\"HAS\"] \n",
    "\n",
    "\n",
    "for name in symbol: \n",
    "    print(name)\n",
    "    lst = finnhub_client.company_news(name, _from=\"2021-02-09\", to=\"2022-02-17\")\n",
    "    df = pd.DataFrame.from_dict(lst)\n",
    "    df.to_csv (name+'.csv', index = False, header=True)"
   ]
  },
  {
   "cell_type": "code",
   "execution_count": 5,
   "id": "58b66eea",
   "metadata": {},
   "outputs": [
    {
     "name": "stdout",
     "output_type": "stream",
     "text": [
      "2021-08-04 04:11:00\n",
      "<class 'datetime.datetime'>\n"
     ]
    }
   ],
   "source": [
    "from datetime import datetime, timedelta\n",
    "\n",
    "def ut2dt(timestamp):\n",
    "    dt_object = datetime.fromtimestamp(timestamp)\n",
    "    return dt_object\n",
    "timestamp = 1628064660\n",
    "\n",
    "print(ut2dt(timestamp))\n",
    "print(type(ut2dt(timestamp)))\n",
    "\n",
    "#df['Date'] = df['datetime'].map(ut2dt).dt.date\n",
    "#df['datetime_dt'] = pd.to_datetime(df['datetime'].map(ut2dt))\n",
    "\n",
    "#df['Time']=df['datetime'].map(ut2dt).dt.time\n"
   ]
  },
  {
   "cell_type": "code",
   "execution_count": 6,
   "id": "2a9acb80",
   "metadata": {},
   "outputs": [],
   "source": [
    "WMT_news = pd.read_csv(\"WMT.csv\")\n",
    "WMT_news['datetime_dt'] = pd.to_datetime(WMT_news['datetime'].map(ut2dt))\n",
    "WMT_news['date'] = WMT_news['datetime_dt'].dt.date\n",
    "#WMT_news[['date',\"headline\"]]\n",
    "df_wmt = WMT_news[['date',\"headline\"]].set_index('date')\n",
    "full_list_WMT = list(df_wmt.headline)\n"
   ]
  },
  {
   "cell_type": "code",
   "execution_count": 7,
   "id": "5be3e2ad",
   "metadata": {},
   "outputs": [],
   "source": [
    "HAS_news = pd.read_csv(\"HAS.csv\")\n",
    "HAS_news['datetime_dt'] = pd.to_datetime(HAS_news['datetime'].map(ut2dt))\n",
    "HAS_news['date'] = HAS_news['datetime_dt'].dt.date\n",
    "df_has = HAS_news[['date',\"headline\"]].set_index('date')\n",
    "full_list_HAS = list(df_has.headline)"
   ]
  },
  {
   "cell_type": "markdown",
   "id": "06550203",
   "metadata": {},
   "source": [
    "### 2.1.2. yfinance for price"
   ]
  },
  {
   "cell_type": "code",
   "execution_count": 8,
   "id": "9854b18f",
   "metadata": {},
   "outputs": [
    {
     "name": "stdout",
     "output_type": "stream",
     "text": [
      "[*********************100%***********************]  1 of 1 completed\n",
      "[*********************100%***********************]  1 of 1 completed\n"
     ]
    }
   ],
   "source": [
    "#generate apple's stock adj closing value from yahoo finance\n",
    "start = datetime(2022,1,10)\n",
    "##end = datetime(end.year, end.month, end.day)\n",
    "end = datetime(2022,2,18)\n",
    "\n",
    "closing_df_WMT = yf.download('WMT', start = start, end=end)['Adj Close']\n",
    "\n",
    "closing_df_HAS = yf.download('HAS', start = start, end=end)['Adj Close']\n",
    "\n",
    "walmart_price = closing_df_WMT.to_frame(name='WMT')\n",
    "hesbro_price = closing_df_HAS.to_frame(name='HAS')\n"
   ]
  },
  {
   "cell_type": "markdown",
   "id": "e4a27ad7",
   "metadata": {},
   "source": [
    "## 2.2. WMT labeling: next day's price_change >3%?"
   ]
  },
  {
   "cell_type": "code",
   "execution_count": 9,
   "id": "f1cac0b3",
   "metadata": {},
   "outputs": [
    {
     "data": {
      "text/html": [
       "<div>\n",
       "<style scoped>\n",
       "    .dataframe tbody tr th:only-of-type {\n",
       "        vertical-align: middle;\n",
       "    }\n",
       "\n",
       "    .dataframe tbody tr th {\n",
       "        vertical-align: top;\n",
       "    }\n",
       "\n",
       "    .dataframe thead th {\n",
       "        text-align: right;\n",
       "    }\n",
       "</style>\n",
       "<table border=\"1\" class=\"dataframe\">\n",
       "  <thead>\n",
       "    <tr style=\"text-align: right;\">\n",
       "      <th></th>\n",
       "      <th>WMT</th>\n",
       "      <th>sf1</th>\n",
       "      <th>price_change</th>\n",
       "      <th>label</th>\n",
       "    </tr>\n",
       "    <tr>\n",
       "      <th>Date</th>\n",
       "      <th></th>\n",
       "      <th></th>\n",
       "      <th></th>\n",
       "      <th></th>\n",
       "    </tr>\n",
       "  </thead>\n",
       "  <tbody>\n",
       "    <tr>\n",
       "      <th>2022-02-17</th>\n",
       "      <td>138.880005</td>\n",
       "      <td>133.529999</td>\n",
       "      <td>4.006595</td>\n",
       "      <td>1</td>\n",
       "    </tr>\n",
       "  </tbody>\n",
       "</table>\n",
       "</div>"
      ],
      "text/plain": [
       "                   WMT         sf1  price_change  label\n",
       "Date                                                   \n",
       "2022-02-17  138.880005  133.529999      4.006595      1"
      ]
     },
     "execution_count": 9,
     "metadata": {},
     "output_type": "execute_result"
    }
   ],
   "source": [
    "walmart_price[\"sf1\"] = walmart_price.WMT.shift(1)\n",
    "walmart_price[\"price_change\"] = (walmart_price.WMT - walmart_price.sf1)/(walmart_price.sf1)*100\n",
    "walmart_price[\"label\"] = (abs(walmart_price[\"price_change\"])>3).astype(int)\n",
    "walmart_price[walmart_price.label==1]\n"
   ]
  },
  {
   "cell_type": "code",
   "execution_count": 10,
   "id": "8e8dcdb2",
   "metadata": {},
   "outputs": [],
   "source": [
    "true_list_WMT = list(df_wmt[(pd.to_datetime(df_wmt.index)==\"2022-02-16\")].headline)\n",
    "false_list_WMT = full_list_WMT[:]\n",
    "for ii in true_list_WMT:\n",
    "    false_list_WMT.remove(ii)"
   ]
  },
  {
   "cell_type": "code",
   "execution_count": 11,
   "id": "275c000a",
   "metadata": {},
   "outputs": [
    {
     "name": "stdout",
     "output_type": "stream",
     "text": [
      "Number of headlines in true_list_WMT:13\n",
      "Number of headlines in false_list_WMT:212\n",
      "Number of headlines in full_list_WMT:225\n"
     ]
    }
   ],
   "source": [
    "print(f\"Number of headlines in true_list_WMT:{len(true_list_WMT)}\")\n",
    "print(f\"Number of headlines in false_list_WMT:{len(false_list_WMT)}\")\n",
    "print(f\"Number of headlines in full_list_WMT:{len(full_list_WMT)}\")"
   ]
  },
  {
   "cell_type": "code",
   "execution_count": 12,
   "id": "bf088642",
   "metadata": {},
   "outputs": [
    {
     "data": {
      "text/plain": [
       "[0.3257279087812173,\n",
       " 0.34202927059010546,\n",
       " 0.27456145961445166,\n",
       " 0.8914340048657883,\n",
       " 0.4536211514903092,\n",
       " 0.47172106099212563,\n",
       " 0.670904295674865,\n",
       " 0.4484925843659185,\n",
       " 0.19667694990603293,\n",
       " 0.3029083939241036,\n",
       " 0.49484068872436554,\n",
       " 0.6102268695736948,\n",
       " 0.22434607851332908]"
      ]
     },
     "execution_count": 12,
     "metadata": {},
     "output_type": "execute_result"
    }
   ],
   "source": [
    "false_news_label_proba_wmt = []\n",
    "for news_item in false_list_WMT:\n",
    "    response = requests.post(host+\"/news\", data={\"news\":news_item})\n",
    "    resulting_proba = response.json()\n",
    "    false_news_label_proba_wmt.append(resulting_proba)\n",
    "\n",
    "true_news_label_proba_wmt = []\n",
    "for news_item in true_list_WMT:\n",
    "    response = requests.post(host+\"/news\", data={\"news\":news_item})\n",
    "    resulting_proba = response.json()\n",
    "    true_news_label_proba_wmt.append(resulting_proba)\n",
    "\n",
    "true_news_label_proba_wmt\n"
   ]
  },
  {
   "cell_type": "code",
   "execution_count": 13,
   "id": "5a0f4593",
   "metadata": {},
   "outputs": [
    {
     "data": {
      "text/plain": [
       "(array([2., 3., 1., 3., 1., 1., 1., 0., 0., 1.]),\n",
       " array([0.19667695, 0.26615266, 0.33562836, 0.40510407, 0.47457977,\n",
       "        0.54405548, 0.61353118, 0.68300689, 0.75248259, 0.8219583 ,\n",
       "        0.891434  ]),\n",
       " <BarContainer object of 10 artists>)"
      ]
     },
     "execution_count": 13,
     "metadata": {},
     "output_type": "execute_result"
    },
    {
     "data": {
      "image/png": "[encoded data removed]",
      "text/plain": [
       "<Figure size 432x288 with 1 Axes>"
      ]
     },
     "metadata": {
      "needs_background": "light"
     },
     "output_type": "display_data"
    }
   ],
   "source": [
    "plt.hist(false_news_label_proba_wmt)\n",
    "plt.hist(true_news_label_proba_wmt)"
   ]
  },
  {
   "cell_type": "code",
   "execution_count": 14,
   "id": "f17b610e",
   "metadata": {},
   "outputs": [],
   "source": [
    "true_pos_index_wmt = [ii for ii in range(len(true_news_label_proba_wmt)) if true_news_label_proba_wmt[ii]>0.5]\n",
    "false_neg_index_wmt = [ii for ii in range(len(false_news_label_proba_wmt)) if false_news_label_proba_wmt[ii]<0.5]\n",
    "\n",
    "true_neg_index_wmt = [ii for ii in range(len(true_news_label_proba_wmt)) if true_news_label_proba_wmt[ii]<0.5]\n",
    "false_pos_index_wmt = [ii for ii in range(len(false_news_label_proba_wmt)) if false_news_label_proba_wmt[ii]>0.5]\n"
   ]
  },
  {
   "cell_type": "code",
   "execution_count": 15,
   "id": "2bc5b901",
   "metadata": {},
   "outputs": [
    {
     "data": {
      "text/plain": [
       "['Pre-Market Earnings Report for February 17, 2022 : WMT, SO, BAX, WST, PLTR, EPAM, POOL, GPC, NICE, LKQ, RS, RGEN',\n",
       " 'Walmart Earnings Report Will Be “The Barometer” Of Consumer Spending',\n",
       " 'JPMorgan Opens A Lounge In Decentraland, Sees $1 Trillion Metaverse Opportunity']"
      ]
     },
     "execution_count": 15,
     "metadata": {},
     "output_type": "execute_result"
    }
   ],
   "source": [
    "true_pos_headline_samples = [true_list_WMT[jj] for jj in true_pos_index_wmt[:5]]\n",
    "(true_pos_headline_samples)\n"
   ]
  },
  {
   "cell_type": "code",
   "execution_count": 16,
   "id": "0ce4d417",
   "metadata": {},
   "outputs": [
    {
     "data": {
      "text/plain": [
       "['Walmart Inc. (WMT) CEO Doug McMillon on Q4 2022 Results - Earnings Call Transcript',\n",
       " \"What's Going on With Fastly? Why Is FSLY Stock Dropping Today?\",\n",
       " 'Snap Out Of It - Thursday, Feb. 17',\n",
       " 'Pre-Market Most Active for Feb 17, 2022 : PLTR, MRIN, ERIC, TQQQ, SQQQ, NVDA, RBLX, QQQ, FSLY, WMT, CND, BKKT',\n",
       " 'Walmart : Unit count information as of February 17, 2022']"
      ]
     },
     "execution_count": 16,
     "metadata": {},
     "output_type": "execute_result"
    }
   ],
   "source": [
    "false_pos_headline_samples = [false_list_WMT[jj] for jj in false_pos_index_wmt[:5]]\n",
    "(false_pos_headline_samples)\n"
   ]
  },
  {
   "cell_type": "code",
   "execution_count": 17,
   "id": "8af95565",
   "metadata": {},
   "outputs": [
    {
     "data": {
      "text/plain": [
       "['Walmart Stock To Trade Higher Post Q4?',\n",
       " 'Walmart Among 14 Companies To Announce Annual Dividend Increase In Late February',\n",
       " \"Walmart's Mexico unit sees net income rise 5%, even as costs increase\",\n",
       " 'Wall Street eyes Walmart results for signs of tighter margins, slower growth',\n",
       " 'Is a Surprise Coming for Walmart (WMT) This Earnings Season?']"
      ]
     },
     "execution_count": 17,
     "metadata": {},
     "output_type": "execute_result"
    }
   ],
   "source": [
    "true_neg_headline_samples = [true_list_WMT[jj] for jj in true_neg_index_wmt[:5]]\n",
    "(true_neg_headline_samples)"
   ]
  },
  {
   "cell_type": "code",
   "execution_count": 18,
   "id": "b03351df",
   "metadata": {},
   "outputs": [
    {
     "data": {
      "text/plain": [
       "['VYM: Vulnerable To Cyclical Risks',\n",
       " 'What Walmart’s Solid Earnings Mean for Target and Other Retail Stocks',\n",
       " 'Walmart Rises Most Since 2020 on Upbeat Outlook, Earnings Beat',\n",
       " 'WMT Stock: Walmart Earnings Top, Discount Giant Upbeat On Sales, Focuses On Value',\n",
       " 'Walmart’s advertising business soars 130% to reach $2.1 billion']"
      ]
     },
     "execution_count": 18,
     "metadata": {},
     "output_type": "execute_result"
    }
   ],
   "source": [
    "false_neg_headline_samples = [false_list_WMT[jj] for jj in false_neg_index_wmt[:5]]\n",
    "(false_neg_headline_samples)\n"
   ]
  },
  {
   "cell_type": "markdown",
   "id": "853635c5",
   "metadata": {},
   "source": [
    "## 2.2. HAS labeling: next day's price_change >3%?"
   ]
  },
  {
   "cell_type": "code",
   "execution_count": 19,
   "id": "31258570",
   "metadata": {},
   "outputs": [
    {
     "data": {
      "text/html": [
       "<div>\n",
       "<style scoped>\n",
       "    .dataframe tbody tr th:only-of-type {\n",
       "        vertical-align: middle;\n",
       "    }\n",
       "\n",
       "    .dataframe tbody tr th {\n",
       "        vertical-align: top;\n",
       "    }\n",
       "\n",
       "    .dataframe thead th {\n",
       "        text-align: right;\n",
       "    }\n",
       "</style>\n",
       "<table border=\"1\" class=\"dataframe\">\n",
       "  <thead>\n",
       "    <tr style=\"text-align: right;\">\n",
       "      <th></th>\n",
       "      <th>HAS</th>\n",
       "      <th>sf1</th>\n",
       "      <th>price_change</th>\n",
       "      <th>label</th>\n",
       "    </tr>\n",
       "    <tr>\n",
       "      <th>Date</th>\n",
       "      <th></th>\n",
       "      <th></th>\n",
       "      <th></th>\n",
       "      <th></th>\n",
       "    </tr>\n",
       "  </thead>\n",
       "  <tbody>\n",
       "    <tr>\n",
       "      <th>2022-01-26</th>\n",
       "      <td>89.111366</td>\n",
       "      <td>94.857605</td>\n",
       "      <td>-6.057752</td>\n",
       "      <td>1</td>\n",
       "    </tr>\n",
       "    <tr>\n",
       "      <th>2022-01-31</th>\n",
       "      <td>92.480003</td>\n",
       "      <td>89.290001</td>\n",
       "      <td>3.572631</td>\n",
       "      <td>1</td>\n",
       "    </tr>\n",
       "    <tr>\n",
       "      <th>2022-02-09</th>\n",
       "      <td>96.230003</td>\n",
       "      <td>92.290001</td>\n",
       "      <td>4.269154</td>\n",
       "      <td>1</td>\n",
       "    </tr>\n",
       "  </tbody>\n",
       "</table>\n",
       "</div>"
      ],
      "text/plain": [
       "                  HAS        sf1  price_change  label\n",
       "Date                                                 \n",
       "2022-01-26  89.111366  94.857605     -6.057752      1\n",
       "2022-01-31  92.480003  89.290001      3.572631      1\n",
       "2022-02-09  96.230003  92.290001      4.269154      1"
      ]
     },
     "execution_count": 19,
     "metadata": {},
     "output_type": "execute_result"
    }
   ],
   "source": [
    "hesbro_price[\"sf1\"] = hesbro_price.HAS.shift(1)\n",
    "hesbro_price[\"price_change\"] = (hesbro_price.HAS - hesbro_price.sf1)/(hesbro_price.sf1)*100\n",
    "hesbro_price[\"label\"] = (abs(hesbro_price[\"price_change\"])>3).astype(int)\n",
    "hesbro_price[hesbro_price.label==1]"
   ]
  },
  {
   "cell_type": "code",
   "execution_count": 20,
   "id": "3e847dbd",
   "metadata": {},
   "outputs": [],
   "source": [
    "true_list_HAS = list(df_has[(pd.to_datetime(df_has.index)==\"2022-01-25\")|\n",
    "       (pd.to_datetime(df_has.index)==\"2022-01-28\")| # monday price is refered to friday's news\n",
    "       (pd.to_datetime(df_has.index)==\"2022-02-08\")].headline)"
   ]
  },
  {
   "cell_type": "code",
   "execution_count": 21,
   "id": "bd68a992",
   "metadata": {},
   "outputs": [],
   "source": [
    "false_list_HAS = full_list_HAS[:]\n",
    "for ii in true_list_HAS:\n",
    "    false_list_HAS.remove(ii)\n"
   ]
  },
  {
   "cell_type": "code",
   "execution_count": 22,
   "id": "ecfa5d1d",
   "metadata": {},
   "outputs": [
    {
     "data": {
      "text/plain": [
       "179"
      ]
     },
     "execution_count": 22,
     "metadata": {},
     "output_type": "execute_result"
    }
   ],
   "source": [
    "len(false_list_HAS)"
   ]
  },
  {
   "cell_type": "code",
   "execution_count": 23,
   "id": "2b2a5d43",
   "metadata": {},
   "outputs": [
    {
     "data": {
      "text/plain": [
       "13"
      ]
     },
     "execution_count": 23,
     "metadata": {},
     "output_type": "execute_result"
    }
   ],
   "source": [
    "len(true_list_HAS)"
   ]
  },
  {
   "cell_type": "code",
   "execution_count": 24,
   "id": "268163eb",
   "metadata": {},
   "outputs": [
    {
     "data": {
      "text/plain": [
       "192"
      ]
     },
     "execution_count": 24,
     "metadata": {},
     "output_type": "execute_result"
    }
   ],
   "source": [
    "len(full_list_HAS)"
   ]
  },
  {
   "cell_type": "code",
   "execution_count": 25,
   "id": "f2830ead",
   "metadata": {},
   "outputs": [
    {
     "data": {
      "text/plain": [
       "0"
      ]
     },
     "execution_count": 25,
     "metadata": {},
     "output_type": "execute_result"
    }
   ],
   "source": [
    "len(set(true_list_HAS).intersection(set(false_list_HAS)))"
   ]
  },
  {
   "cell_type": "code",
   "execution_count": 26,
   "id": "2a81c5b8",
   "metadata": {},
   "outputs": [
    {
     "data": {
      "text/plain": [
       "[0.1240313878614279,\n",
       " 0.45103053588420694,\n",
       " 0.4913681917997935,\n",
       " 0.3887073308771139,\n",
       " 0.6400015453706392,\n",
       " 0.19702788966659843,\n",
       " 0.2741319279061157,\n",
       " 0.41226961805944323,\n",
       " 0.15599161182848276,\n",
       " 0.2318668060510796,\n",
       " 0.44967021235511406,\n",
       " 0.23352915075992728,\n",
       " 0.2224538229652449]"
      ]
     },
     "execution_count": 26,
     "metadata": {},
     "output_type": "execute_result"
    }
   ],
   "source": [
    "false_news_label_proba_has = []\n",
    "for news_item in false_list_HAS:\n",
    "    response = requests.post(host+\"/news\", data={\"news\":news_item})\n",
    "    resulting_proba = response.json()\n",
    "    false_news_label_proba_has.append(resulting_proba)\n",
    "\n",
    "true_news_label_proba_has = []\n",
    "for news_item in true_list_HAS:\n",
    "    response = requests.post(host+\"/news\", data={\"news\":news_item})\n",
    "    resulting_proba = response.json()\n",
    "    true_news_label_proba_has.append(resulting_proba)\n",
    "\n",
    "true_news_label_proba_has"
   ]
  },
  {
   "cell_type": "code",
   "execution_count": 28,
   "id": "de531664",
   "metadata": {},
   "outputs": [
    {
     "data": {
      "text/plain": [
       "(array([2., 2., 3., 0., 0., 2., 2., 1., 0., 1.]),\n",
       " array([0.12403139, 0.1756284 , 0.22722542, 0.27882244, 0.33041945,\n",
       "        0.38201647, 0.43361348, 0.4852105 , 0.53680751, 0.58840453,\n",
       "        0.64000155]),\n",
       " <BarContainer object of 10 artists>)"
      ]
     },
     "execution_count": 28,
     "metadata": {},
     "output_type": "execute_result"
    },
    {
     "data": {
      "image/png": "[encoded data removed]",
      "text/plain": [
       "<Figure size 432x288 with 1 Axes>"
      ]
     },
     "metadata": {
      "needs_background": "light"
     },
     "output_type": "display_data"
    }
   ],
   "source": [
    "\n",
    "plt.hist(false_news_label_proba_has)\n",
    "plt.hist(true_news_label_proba_has)"
   ]
  },
  {
   "cell_type": "code",
   "execution_count": 35,
   "id": "5b762190",
   "metadata": {
    "scrolled": true
   },
   "outputs": [],
   "source": [
    "# using 0.5 as threshold\n",
    "\n",
    "true_pos_index = [ii for ii in range(len(true_news_label_proba_has)) if true_news_label_proba_has[ii]>0.5]\n",
    "false_neg_index = [ii for ii in range(len(false_news_label_proba_has)) if false_news_label_proba_has[ii]<0.5]\n",
    "\n",
    "true_neg_index = [ii for ii in range(len(true_news_label_proba_has)) if true_news_label_proba_has[ii]<0.5]\n",
    "false_pos_index = [ii for ii in range(len(false_news_label_proba_has)) if false_news_label_proba_has[ii]>0.5]\n",
    "\n",
    "#[false_news_label_proba[ii] for ii in range(len(false_news_label_proba)) if false_news_label_proba[ii]>0.35]"
   ]
  },
  {
   "cell_type": "code",
   "execution_count": 37,
   "id": "c0c19253",
   "metadata": {},
   "outputs": [
    {
     "data": {
      "text/plain": [
       "['A Trio of Stocks With High Returns on Equity',\n",
       " 'Hasbro Inc. stock falls Tuesday, underperforms market',\n",
       " 'Leggett (LEG) Q4 Earnings Top, Margins Fall on Economic Woes',\n",
       " 'Hasbro price target lowered to $121 from $138 at DA Davidson',\n",
       " \"Netflix to produce Mattel's 'Masters of the Universe' movie\"]"
      ]
     },
     "execution_count": 37,
     "metadata": {},
     "output_type": "execute_result"
    }
   ],
   "source": [
    "true_neg_headline_samples = [true_list_HAS[jj] for jj in true_neg_index[:5]]\n",
    "(true_neg_headline_samples)"
   ]
  },
  {
   "cell_type": "code",
   "execution_count": 38,
   "id": "90e07f1c",
   "metadata": {},
   "outputs": [
    {
     "data": {
      "text/plain": [
       "['Q4 2021 Retail Preview: Supply Chain Problems Continue']"
      ]
     },
     "execution_count": 38,
     "metadata": {},
     "output_type": "execute_result"
    }
   ],
   "source": [
    "true_pos_headline_samples = [true_list_HAS[jj] for jj in true_pos_index[:5]]\n",
    "true_pos_headline_samples"
   ]
  },
  {
   "cell_type": "code",
   "execution_count": 39,
   "id": "f1881f3a",
   "metadata": {},
   "outputs": [
    {
     "data": {
      "text/plain": [
       "['Should You Follow This Activist Investor and Buy Hasbro Stock?',\n",
       " \"Hasbro Stock Leaps As Activists Push For 'Wizards of the Coast', Spin-off, Board Changes\",\n",
       " 'Why Hasbro Stock Was Surging Higher Today',\n",
       " \"Hasbro's (NASDAQ:HAS) Upcoming Dividend Will Be Larger Than Last Year's\",\n",
       " 'Hasbro Announces Innovative Play and Entertainment Lineup For 2022']"
      ]
     },
     "execution_count": 39,
     "metadata": {},
     "output_type": "execute_result"
    }
   ],
   "source": [
    "\n",
    "false_neg_headline_samples = [false_list_HAS[jj] for jj in false_neg_index[:5]]\n",
    "false_neg_headline_samples"
   ]
  },
  {
   "cell_type": "code",
   "execution_count": 40,
   "id": "21ceae36",
   "metadata": {},
   "outputs": [
    {
     "data": {
      "text/plain": [
       "['S&P 500 Movers: VIAC, HAS',\n",
       " 'Early notable gainers among liquid option names on February 17th',\n",
       " 'Hasbro Activist Begins Proxy Fight, Urges Wizards Unit Spinoff',\n",
       " \"Do Hasbro's (NASDAQ:HAS) Earnings Warrant Your Attention?\",\n",
       " \"Mohawk's (MHK) Q4 Earnings and Sales Beat, Q1 View Tepid\"]"
      ]
     },
     "execution_count": 40,
     "metadata": {},
     "output_type": "execute_result"
    }
   ],
   "source": [
    "false_pos_headline_samples = [false_list_HAS[jj] for jj in false_pos_index[:5]]\n",
    "false_pos_headline_samples"
   ]
  },
  {
   "cell_type": "markdown",
   "id": "cb711ed0",
   "metadata": {},
   "source": [
    "# Demo"
   ]
  },
  {
   "cell_type": "code",
   "execution_count": 52,
   "id": "e3353d28",
   "metadata": {},
   "outputs": [],
   "source": [
    "def print_proba_headline_df(sample):\n",
    "    df = pd.DataFrame()\n",
    "    proba_list = []\n",
    "    for news_item in sample:\n",
    "        \n",
    "        response = requests.post(host+\"/news\", data={\"news\":news_item})\n",
    "        resulting_proba = response.json()\n",
    "        proba_list.append(resulting_proba)\n",
    "    df['proba'] = proba_list\n",
    "    df['headline'] = sample\n",
    "    print(df)"
   ]
  },
  {
   "cell_type": "markdown",
   "id": "bc617d15",
   "metadata": {},
   "source": [
    "For demo purpose:\n",
    "\n",
    "- True pos  = WMT(first 3)+HAS(first 1)\n",
    "- False pos = WMT(first 3)+HAS(first 2)\n",
    "- False neg = WMT(first 3)+HAS(first 2)\n",
    "- True neg  = WMT(first 3)+HAS(first 2)"
   ]
  },
  {
   "cell_type": "code",
   "execution_count": 54,
   "id": "5277e527",
   "metadata": {},
   "outputs": [
    {
     "data": {
      "text/plain": [
       "['Pre-Market Earnings Report for February 17, 2022 : WMT, SO, BAX, WST, PLTR, EPAM, POOL, GPC, NICE, LKQ, RS, RGEN',\n",
       " 'Walmart Earnings Report Will Be “The Barometer” Of Consumer Spending',\n",
       " 'JPMorgan Opens A Lounge In Decentraland, Sees $1 Trillion Metaverse Opportunity',\n",
       " 'Q4 2021 Retail Preview: Supply Chain Problems Continue']"
      ]
     },
     "execution_count": 54,
     "metadata": {},
     "output_type": "execute_result"
    }
   ],
   "source": [
    "TP_sample = [true_list_WMT[jj] for jj in true_pos_index_wmt[:5]]+[true_list_HAS[jj] for jj in true_pos_index[:5]]\n",
    "TP_sample"
   ]
  },
  {
   "cell_type": "code",
   "execution_count": 62,
   "id": "ab0525af",
   "metadata": {},
   "outputs": [
    {
     "name": "stdout",
     "output_type": "stream",
     "text": [
      "      proba                                           headline\n",
      "0  0.891434  Pre-Market Earnings Report for February 17, 20...\n",
      "1  0.670904  Walmart Earnings Report Will Be “The Barometer...\n",
      "2  0.610227  JPMorgan Opens A Lounge In Decentraland, Sees ...\n",
      "3  0.640002  Q4 2021 Retail Preview: Supply Chain Problems ...\n"
     ]
    }
   ],
   "source": [
    "print_proba_headline_df(TP_sample)"
   ]
  },
  {
   "cell_type": "code",
   "execution_count": 44,
   "id": "e62c5e20",
   "metadata": {},
   "outputs": [
    {
     "data": {
      "text/plain": [
       "['Walmart Inc. (WMT) CEO Doug McMillon on Q4 2022 Results - Earnings Call Transcript',\n",
       " \"What's Going on With Fastly? Why Is FSLY Stock Dropping Today?\",\n",
       " 'Snap Out Of It - Thursday, Feb. 17',\n",
       " 'S&P 500 Movers: VIAC, HAS',\n",
       " 'Early notable gainers among liquid option names on February 17th']"
      ]
     },
     "execution_count": 44,
     "metadata": {},
     "output_type": "execute_result"
    }
   ],
   "source": [
    "FP_sample = [false_list_WMT[jj] for jj in false_pos_index_wmt[:3]] + [false_list_HAS[jj] for jj in false_pos_index[:2]]\n",
    "FP_sample"
   ]
  },
  {
   "cell_type": "code",
   "execution_count": 63,
   "id": "48103b35",
   "metadata": {},
   "outputs": [
    {
     "name": "stdout",
     "output_type": "stream",
     "text": [
      "      proba                                           headline\n",
      "0  0.583030  Walmart Inc. (WMT) CEO Doug McMillon on Q4 202...\n",
      "1  0.624170  What's Going on With Fastly? Why Is FSLY Stock...\n",
      "2  0.527084                 Snap Out Of It - Thursday, Feb. 17\n",
      "3  0.761817                          S&P 500 Movers: VIAC, HAS\n",
      "4  0.536449  Early notable gainers among liquid option name...\n"
     ]
    }
   ],
   "source": [
    "print_proba_headline_df(FP_sample)"
   ]
  },
  {
   "cell_type": "code",
   "execution_count": 57,
   "id": "90b67fea",
   "metadata": {},
   "outputs": [
    {
     "data": {
      "text/plain": [
       "['VYM: Vulnerable To Cyclical Risks',\n",
       " 'What Walmart’s Solid Earnings Mean for Target and Other Retail Stocks',\n",
       " 'Walmart Rises Most Since 2020 on Upbeat Outlook, Earnings Beat',\n",
       " 'Should You Follow This Activist Investor and Buy Hasbro Stock?',\n",
       " \"Hasbro Stock Leaps As Activists Push For 'Wizards of the Coast', Spin-off, Board Changes\"]"
      ]
     },
     "execution_count": 57,
     "metadata": {},
     "output_type": "execute_result"
    }
   ],
   "source": [
    "FN_sample = [false_list_WMT[jj] for jj in false_neg_index_wmt[:3]] + [false_list_HAS[jj] for jj in false_neg_index[:2]]\n",
    "FN_sample"
   ]
  },
  {
   "cell_type": "code",
   "execution_count": 64,
   "id": "50e473fd",
   "metadata": {},
   "outputs": [
    {
     "name": "stdout",
     "output_type": "stream",
     "text": [
      "      proba                                           headline\n",
      "0  0.194090                  VYM: Vulnerable To Cyclical Risks\n",
      "1  0.242304  What Walmart’s Solid Earnings Mean for Target ...\n",
      "2  0.221643  Walmart Rises Most Since 2020 on Upbeat Outloo...\n",
      "3  0.249683  Should You Follow This Activist Investor and B...\n",
      "4  0.344380  Hasbro Stock Leaps As Activists Push For 'Wiza...\n"
     ]
    }
   ],
   "source": [
    "print_proba_headline_df(FN_sample)"
   ]
  },
  {
   "cell_type": "code",
   "execution_count": 48,
   "id": "fbc8a079",
   "metadata": {},
   "outputs": [
    {
     "data": {
      "text/plain": [
       "['Walmart Stock To Trade Higher Post Q4?',\n",
       " 'Walmart Among 14 Companies To Announce Annual Dividend Increase In Late February',\n",
       " \"Walmart's Mexico unit sees net income rise 5%, even as costs increase\",\n",
       " 'A Trio of Stocks With High Returns on Equity',\n",
       " 'Hasbro Inc. stock falls Tuesday, underperforms market']"
      ]
     },
     "execution_count": 48,
     "metadata": {},
     "output_type": "execute_result"
    }
   ],
   "source": [
    "TN_sample = [true_list_WMT[jj] for jj in true_neg_index_wmt[:3]] + [true_list_HAS[jj] for jj in true_neg_index[:2]]\n",
    "TN_sample"
   ]
  },
  {
   "cell_type": "code",
   "execution_count": 65,
   "id": "e45ddafe",
   "metadata": {},
   "outputs": [
    {
     "name": "stdout",
     "output_type": "stream",
     "text": [
      "      proba                                           headline\n",
      "0  0.325728             Walmart Stock To Trade Higher Post Q4?\n",
      "1  0.342029  Walmart Among 14 Companies To Announce Annual ...\n",
      "2  0.274561  Walmart's Mexico unit sees net income rise 5%,...\n",
      "3  0.124031       A Trio of Stocks With High Returns on Equity\n",
      "4  0.451031  Hasbro Inc. stock falls Tuesday, underperforms...\n"
     ]
    }
   ],
   "source": [
    "print_proba_headline_df(TN_sample)"
   ]
  }
 ],
 "metadata": {
  "kernelspec": {
   "display_name": "Python 3",
   "language": "python",
   "name": "python3"
  },
  "language_info": {
   "codemirror_mode": {
    "name": "ipython",
    "version": 3
   },
   "file_extension": ".py",
   "mimetype": "text/x-python",
   "name": "python",
   "nbconvert_exporter": "python",
   "pygments_lexer": "ipython3",
   "version": "3.8.8"
  }
 },
 "nbformat": 4,
 "nbformat_minor": 5
}
