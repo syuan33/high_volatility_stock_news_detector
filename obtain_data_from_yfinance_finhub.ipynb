{
 "cells": [
  {
   "cell_type": "code",
   "execution_count": 5,
   "metadata": {
    "id": "unvLDgB6zkeB"
   },
   "outputs": [],
   "source": [
    "import pandas as pd\n",
    "import numpy as np\n",
    "import matplotlib.pyplot as plt\n",
    "%matplotlib inline\n",
    "import seaborn as sns\n",
    "import yfinance as yf\n",
    "from datetime import datetime \n",
    "import config"
   ]
  },
  {
   "cell_type": "code",
   "execution_count": 7,
   "metadata": {
    "id": "8HDgEDFOzkeG"
   },
   "outputs": [],
   "source": [
    "#generate sp500 stock symbol\n",
    "sp500 = pd.read_csv(\"./sp500.csv\")\n",
    "symbol = list(sp500.Symbol)\n",
    "symbol.remove('BF.B')\n",
    "symbol.remove('BRK.B')"
   ]
  },
  {
   "cell_type": "markdown",
   "metadata": {},
   "source": [
    "# Today's news: from Finhub.com"
   ]
  },
  {
   "cell_type": "code",
   "execution_count": 6,
   "metadata": {
    "id": "m_dMstadzkeF"
   },
   "outputs": [],
   "source": [
    "import finnhub\n",
    "# get your api key from https://finnhub.io\n",
    "finnhub_client =finnhub.Client(api_key=config.FH_API_KEY)"
   ]
  },
  {
   "cell_type": "code",
   "execution_count": 8,
   "metadata": {
    "id": "UVktRKpTzkeG"
   },
   "outputs": [
    {
     "name": "stdout",
     "output_type": "stream",
     "text": [
      "A\n",
      "AAL\n",
      "AAP\n",
      "AAPL\n",
      "ABBV\n",
      "ABC\n",
      "ABMD\n",
      "ABT\n",
      "ACN\n",
      "ADBE\n",
      "ADI\n",
      "ADM\n",
      "ADP\n",
      "ADSK\n",
      "AEE\n",
      "AEP\n",
      "AES\n",
      "AFL\n",
      "AIG\n",
      "AIZ\n",
      "AJG\n",
      "AKAM\n",
      "ALB\n",
      "ALGN\n",
      "ALK\n",
      "ALL\n",
      "ALLE\n",
      "ALXN\n",
      "AMAT\n",
      "AMCR\n"
     ]
    }
   ],
   "source": [
    "#60 calls/minute\n",
    "#Limitation can be found from: \n",
    "#https://finnhub.io/docs/api/rate-limit\n",
    "for name in symbol[:30]: \n",
    "    print(name)\n",
    "    lst = finnhub_client.company_news(name, _from=\"2020-12-17\", to=\"2021-08-17\")\n",
    "    df = pd.DataFrame.from_dict(lst)\n",
    "    df.to_csv (name+'.csv', index = False, header=True)"
   ]
  },
  {
   "cell_type": "markdown",
   "metadata": {},
   "source": [
    "# Tomorrow's price vs Today's price: finhub.com"
   ]
  },
  {
   "cell_type": "code",
   "execution_count": null,
   "metadata": {
    "id": "LIGw2W0azkeH",
    "outputId": "cdd8aed9-f52b-49c0-e4bf-1c25bfde14ff"
   },
   "outputs": [],
   "source": [
    "#generate one year stock adj closing value from yahoo finance\n",
    "end = datetime.now()\n",
    "end = datetime(end.year, end.month, end.day)\n",
    "start = datetime(end.year - 1, end.month, end.day)\n",
    "sp500symbol = list(sp500.Symbol)\n",
    "closing_df = yf.download(sp500symbol, start = start, end=end)['Adj Close']\n",
    "closing_df"
   ]
  },
  {
   "cell_type": "code",
   "execution_count": null,
   "metadata": {
    "id": "PbowzKa8zkeI"
   },
   "outputs": [],
   "source": [
    "returns = closing_df.pct_change()\n",
    "returns"
   ]
  },
  {
   "cell_type": "code",
   "execution_count": null,
   "metadata": {
    "id": "VZsK9EqXzkeJ"
   },
   "outputs": [],
   "source": [
    "returns.shape"
   ]
  },
  {
   "cell_type": "code",
   "execution_count": null,
   "metadata": {},
   "outputs": [],
   "source": [
    "returns.dropna(how='all',axis=0, inplace=True)"
   ]
  },
  {
   "cell_type": "code",
   "execution_count": null,
   "metadata": {
    "id": "yLq0QawYzkeK",
    "outputId": "b60239a7-b88c-41c4-888c-ffd9ee2c3e8c"
   },
   "outputs": [],
   "source": [
    "rets_corr = returns.corr()\n",
    "rets_corr"
   ]
  },
  {
   "cell_type": "code",
   "execution_count": null,
   "metadata": {},
   "outputs": [],
   "source": [
    "sns.heatmap(rets_corr)"
   ]
  },
  {
   "cell_type": "markdown",
   "metadata": {},
   "source": [
    "## single stock price sample"
   ]
  },
  {
   "cell_type": "code",
   "execution_count": 9,
   "metadata": {},
   "outputs": [
    {
     "name": "stdout",
     "output_type": "stream",
     "text": [
      "[*********************100%***********************]  1 of 1 completed\n"
     ]
    }
   ],
   "source": [
    "#generate apple's stock adj closing value from yahoo finance\n",
    "end = datetime(2021,10,2)\n",
    "##end = datetime(end.year, end.month, end.day)\n",
    "start = datetime(2021,3,24)\n",
    "##sp500symbol = list(sp500.Symbol)\n",
    "closing_df = yf.download('AAPL', start = start, end=end)['Adj Close']\n",
    "\n",
    "apple_price = closing_df.to_frame(name='AAPL')\n",
    "\n",
    "sf1 = apple_price.AAPL.shift(1)\n",
    "\n",
    "apple_price = pd.concat([apple_price,sf1],axis=1)\n",
    "apple_price.columns=['sf0','sf1']\n",
    "price_change = (apple_price.sf0 - apple_price.sf1)/(apple_price.sf1)*100\n",
    "apple_price['price_change'] = price_change\n",
    "apple_price.to_csv('apple_price.csv')\n"
   ]
  }
 ],
 "metadata": {
  "colab": {
   "collapsed_sections": [],
   "name": "scrape_data.ipynb",
   "provenance": []
  },
  "kernelspec": {
   "display_name": "Python 3",
   "language": "python",
   "name": "python3"
  },
  "language_info": {
   "codemirror_mode": {
    "name": "ipython",
    "version": 3
   },
   "file_extension": ".py",
   "mimetype": "text/x-python",
   "name": "python",
   "nbconvert_exporter": "python",
   "pygments_lexer": "ipython3",
   "version": "3.9.5"
  }
 },
 "nbformat": 4,
 "nbformat_minor": 1
}
